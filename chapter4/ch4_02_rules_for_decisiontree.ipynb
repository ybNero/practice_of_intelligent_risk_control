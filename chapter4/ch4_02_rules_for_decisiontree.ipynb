{
 "cells": [
  {
   "cell_type": "code",
   "execution_count": 3,
   "metadata": {},
   "outputs": [
    {
     "ename": "ModuleNotFoundError",
     "evalue": "No module named 'toad'",
     "output_type": "error",
     "traceback": [
      "\u001b[1;31m---------------------------------------------------------------------------\u001b[0m",
      "\u001b[1;31mModuleNotFoundError\u001b[0m                       Traceback (most recent call last)",
      "Input \u001b[1;32mIn [3]\u001b[0m, in \u001b[0;36m<cell line: 9>\u001b[1;34m()\u001b[0m\n\u001b[0;32m      7\u001b[0m \u001b[38;5;28;01mimport\u001b[39;00m \u001b[38;5;21;01msklearn\u001b[39;00m\u001b[38;5;21;01m.\u001b[39;00m\u001b[38;5;21;01mtree\u001b[39;00m \u001b[38;5;28;01mas\u001b[39;00m \u001b[38;5;21;01mst\u001b[39;00m\n\u001b[0;32m      8\u001b[0m \u001b[38;5;28;01mimport\u001b[39;00m \u001b[38;5;21;01mgraphviz\u001b[39;00m\n\u001b[1;32m----> 9\u001b[0m \u001b[38;5;28;01mfrom\u001b[39;00m \u001b[38;5;21;01mutils\u001b[39;00m \u001b[38;5;28;01mimport\u001b[39;00m data_utils\n",
      "File \u001b[1;32md:\\GitHub\\practice_of_intelligent_risk_control\\chapter4\\..\\utils\\data_utils.py:1\u001b[0m, in \u001b[0;36m<module>\u001b[1;34m\u001b[0m\n\u001b[1;32m----> 1\u001b[0m \u001b[38;5;28;01mimport\u001b[39;00m \u001b[38;5;21;01mtoad\u001b[39;00m\n\u001b[0;32m      2\u001b[0m \u001b[38;5;28;01mimport\u001b[39;00m \u001b[38;5;21;01mnumpy\u001b[39;00m \u001b[38;5;28;01mas\u001b[39;00m \u001b[38;5;21;01mnp\u001b[39;00m\n\u001b[0;32m      3\u001b[0m \u001b[38;5;28;01mimport\u001b[39;00m \u001b[38;5;21;01mpandas\u001b[39;00m \u001b[38;5;28;01mas\u001b[39;00m \u001b[38;5;21;01mpd\u001b[39;00m\n",
      "\u001b[1;31mModuleNotFoundError\u001b[0m: No module named 'toad'"
     ]
    }
   ],
   "source": [
    "# -*- coding: utf-8 -*-\n",
    "\n",
    "import sys\n",
    "sys.path.append(\"./\")\n",
    "sys.path.append(\"../\")\n",
    "\n",
    "import sklearn.tree as st\n",
    "import graphviz\n",
    "from utils import data_utils\n"
   ]
  },
  {
   "cell_type": "code",
   "execution_count": 4,
   "metadata": {},
   "outputs": [
    {
     "name": "stdout",
     "output_type": "stream",
     "text": [
      "Collecting toad\n",
      "  Downloading toad-0.1.3-cp39-cp39-win_amd64.whl (14.3 MB)\n",
      "Installing collected packages: toad\n",
      "Successfully installed toad-0.1.3\n"
     ]
    }
   ],
   "source": [
    "# !pip install graphviz\n",
    "!pip install toad"
   ]
  },
  {
   "cell_type": "code",
   "execution_count": null,
   "metadata": {},
   "outputs": [],
   "source": [
    "\n",
    "def decision_tree_resolve(train_x, train_y, class_names=None, max_depth=3, fig_path=''):\n",
    "    \"\"\"\n",
    "    基于决策树可视化\n",
    "    :param train_x: data of train\n",
    "    :param train_y: data of y\n",
    "    :param class_names:  标签名称\n",
    "    :param max_depth: 树最大深度\n",
    "    :param fig_path: 图片路径和名称\n",
    "    :return:\n",
    "    \"\"\"\n",
    "    if class_names is None:\n",
    "        class_names = ['good', 'bad']\n",
    "    clf = st.DecisionTreeClassifier(max_depth=max_depth,\n",
    "                                    min_samples_leaf=0.01,\n",
    "                                    min_samples_split=0.01,\n",
    "                                    criterion='gini',\n",
    "                                    splitter='best',\n",
    "                                    max_features=None)\n",
    "    clf = clf.fit(train_x, train_y)\n",
    "\n",
    "    # 比例图\n",
    "    dot_data = st.export_graphviz(clf, out_file=None,\n",
    "                                  feature_names=train_x.columns.tolist(),\n",
    "                                  class_names=class_names,\n",
    "                                  filled=True,\n",
    "                                  rounded=True,\n",
    "                                  node_ids=True,\n",
    "                                  special_characters=True,\n",
    "                                  proportion=True,\n",
    "                                  leaves_parallel=True)\n",
    "    graph = graphviz.Source(dot_data, filename=fig_path)\n",
    "    return graph\n",
    "\n"
   ]
  },
  {
   "cell_type": "code",
   "execution_count": null,
   "metadata": {},
   "outputs": [],
   "source": [
    "# 加载数据\n",
    "german_credit_data = data_utils.get_data()\n",
    "\n"
   ]
  },
  {
   "cell_type": "code",
   "execution_count": null,
   "metadata": {},
   "outputs": [],
   "source": [
    "# 构造数据集\n",
    "X = german_credit_data[data_utils.numeric_cols].copy()\n",
    "y = german_credit_data['creditability']\n",
    "\n"
   ]
  },
  {
   "cell_type": "code",
   "execution_count": null,
   "metadata": {},
   "outputs": [],
   "source": [
    "graph = decision_tree_resolve(X, y, fig_path='data/tree')\n",
    "graph.view()"
   ]
  },
  {
   "cell_type": "code",
   "execution_count": null,
   "metadata": {},
   "outputs": [],
   "source": [
    "\n",
    "# 转化为规则\n",
    "X['node_5'] = X.apply(lambda x: 1 if x['duration.in.month'] <= 34.5 and x['credit.amount'] > 8630.5 else 0, axis=1)\n",
    "X['node_9'] = X.apply(\n",
    "    lambda x: 1 if x['duration.in.month'] > 34.5 and x['age.in.years'] <= 29.5 and x['credit.amount'] > 4100.0 else 0,\n",
    "    axis=1)\n",
    "X['node_12'] = X.apply(lambda x: 1 if x['duration.in.month'] > 34.5 and x['age.in.years'] > 56.5 else 0, axis=1)\n"
   ]
  }
 ],
 "metadata": {
  "kernelspec": {
   "display_name": "Python 3",
   "language": "python",
   "name": "python3"
  },
  "language_info": {
   "codemirror_mode": {
    "name": "ipython",
    "version": 3
   },
   "file_extension": ".py",
   "mimetype": "text/x-python",
   "name": "python",
   "nbconvert_exporter": "python",
   "pygments_lexer": "ipython3",
   "version": "3.9.12"
  }
 },
 "nbformat": 4,
 "nbformat_minor": 2
}
